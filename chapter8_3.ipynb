{
  "nbformat": 4,
  "nbformat_minor": 0,
  "metadata": {
    "colab": {
      "provenance": [],
      "authorship_tag": "ABX9TyNty9QCb5S1kDNznm8tvnsZ",
      "include_colab_link": true
    },
    "kernelspec": {
      "name": "python3",
      "display_name": "Python 3"
    },
    "language_info": {
      "name": "python"
    },
    "accelerator": "GPU",
    "gpuClass": "standard"
  },
  "cells": [
    {
      "cell_type": "markdown",
      "metadata": {
        "id": "view-in-github",
        "colab_type": "text"
      },
      "source": [
        "<a href=\"https://colab.research.google.com/github/Son-github/ML-chapter8_3/blob/main/chapter8_3.ipynb\" target=\"_parent\"><img src=\"https://colab.research.google.com/assets/colab-badge.svg\" alt=\"Open In Colab\"/></a>"
      ]
    },
    {
      "cell_type": "code",
      "execution_count": 2,
      "metadata": {
        "colab": {
          "base_uri": "https://localhost:8080/"
        },
        "id": "521slU82XYcy",
        "outputId": "fae67e17-0903-4c17-d444-329d4318fb5a"
      },
      "outputs": [
        {
          "output_type": "stream",
          "name": "stdout",
          "text": [
            "Downloading data from https://storage.googleapis.com/tensorflow/tf-keras-datasets/train-labels-idx1-ubyte.gz\n",
            "29515/29515 [==============================] - 0s 0us/step\n",
            "Downloading data from https://storage.googleapis.com/tensorflow/tf-keras-datasets/train-images-idx3-ubyte.gz\n",
            "26421880/26421880 [==============================] - 2s 0us/step\n",
            "Downloading data from https://storage.googleapis.com/tensorflow/tf-keras-datasets/t10k-labels-idx1-ubyte.gz\n",
            "5148/5148 [==============================] - 0s 0us/step\n",
            "Downloading data from https://storage.googleapis.com/tensorflow/tf-keras-datasets/t10k-images-idx3-ubyte.gz\n",
            "4422102/4422102 [==============================] - 0s 0us/step\n"
          ]
        }
      ],
      "source": [
        "from tensorflow import keras\n",
        "from sklearn.model_selection import train_test_split\n",
        "(train_input, train_target), (test_input, test_target) = keras.datasets.fashion_mnist.load_data()\n",
        "train_scaled = train_input.reshape(-1, 28, 28, 1) / 255.0\n",
        "train_scaled, val_scaled, train_target, val_target = train_test_split(train_scaled, train_target, test_size=0.2, random_state=42)"
      ]
    },
    {
      "cell_type": "code",
      "source": [
        "model = keras.Sequential()\n",
        "model.add(keras.layers.Conv2D(32, kernel_size=3, activation='relu', padding='same', input_shape=(28, 28, 1)))\n",
        "model.add(keras.layers.MaxPooling2D(2))\n",
        "model.add(keras.layers.Conv2D(64, kernel_size=3, activation='relu', padding='same'))\n",
        "model.add(keras.layers.MaxPooling2D(2))\n",
        "model.add(keras.layers.Flatten())\n",
        "model.add(keras.layers.Dense(100, activation='relu'))\n",
        "model.add(keras.layers.Dropout(0.4))\n",
        "model.add(keras.layers.Dense(10, activation='softmax'))"
      ],
      "metadata": {
        "id": "sy96jTiaX6kD"
      },
      "execution_count": 3,
      "outputs": []
    },
    {
      "cell_type": "code",
      "source": [
        "from keras.api._v2.keras import callbacks\n",
        "model.compile(optimizer='adam', loss='sparse_categorical_crossentropy', metrics='accuracy')\n",
        "checkpoint_cb = keras.callbacks.ModelCheckpoint('best-cnn-model.h5', save_best_only=True)\n",
        "early_stopping_cb = keras.callbacks.EarlyStopping(patience=2, restore_best_weights=True)\n",
        "history = model.fit(train_scaled, train_target, epochs=20, validation_data=(val_scaled, val_target), callbacks=[checkpoint_cb, early_stopping_cb])"
      ],
      "metadata": {
        "colab": {
          "base_uri": "https://localhost:8080/"
        },
        "id": "dQo4lHO_ZGFj",
        "outputId": "28e07faa-dd98-4404-aee7-fbe6b3016ac1"
      },
      "execution_count": 4,
      "outputs": [
        {
          "output_type": "stream",
          "name": "stdout",
          "text": [
            "Epoch 1/20\n",
            "1500/1500 [==============================] - 17s 5ms/step - loss: 0.5142 - accuracy: 0.8148 - val_loss: 0.3219 - val_accuracy: 0.8797\n",
            "Epoch 2/20\n",
            "1500/1500 [==============================] - 7s 4ms/step - loss: 0.3419 - accuracy: 0.8757 - val_loss: 0.2776 - val_accuracy: 0.8981\n",
            "Epoch 3/20\n",
            "1500/1500 [==============================] - 7s 4ms/step - loss: 0.2929 - accuracy: 0.8944 - val_loss: 0.2833 - val_accuracy: 0.8959\n",
            "Epoch 4/20\n",
            "1500/1500 [==============================] - 6s 4ms/step - loss: 0.2621 - accuracy: 0.9051 - val_loss: 0.2384 - val_accuracy: 0.9119\n",
            "Epoch 5/20\n",
            "1500/1500 [==============================] - 7s 5ms/step - loss: 0.2411 - accuracy: 0.9114 - val_loss: 0.2354 - val_accuracy: 0.9126\n",
            "Epoch 6/20\n",
            "1500/1500 [==============================] - 6s 4ms/step - loss: 0.2227 - accuracy: 0.9184 - val_loss: 0.2349 - val_accuracy: 0.9128\n",
            "Epoch 7/20\n",
            "1500/1500 [==============================] - 7s 5ms/step - loss: 0.2056 - accuracy: 0.9234 - val_loss: 0.2299 - val_accuracy: 0.9169\n",
            "Epoch 8/20\n",
            "1500/1500 [==============================] - 7s 5ms/step - loss: 0.1892 - accuracy: 0.9292 - val_loss: 0.2365 - val_accuracy: 0.9160\n",
            "Epoch 9/20\n",
            "1500/1500 [==============================] - 6s 4ms/step - loss: 0.1779 - accuracy: 0.9331 - val_loss: 0.2283 - val_accuracy: 0.9185\n",
            "Epoch 10/20\n",
            "1500/1500 [==============================] - 7s 5ms/step - loss: 0.1652 - accuracy: 0.9384 - val_loss: 0.2290 - val_accuracy: 0.9184\n",
            "Epoch 11/20\n",
            "1500/1500 [==============================] - 7s 5ms/step - loss: 0.1534 - accuracy: 0.9429 - val_loss: 0.2243 - val_accuracy: 0.9205\n",
            "Epoch 12/20\n",
            "1500/1500 [==============================] - 8s 5ms/step - loss: 0.1463 - accuracy: 0.9444 - val_loss: 0.2304 - val_accuracy: 0.9208\n",
            "Epoch 13/20\n",
            "1500/1500 [==============================] - 6s 4ms/step - loss: 0.1357 - accuracy: 0.9489 - val_loss: 0.2319 - val_accuracy: 0.9199\n"
          ]
        }
      ]
    },
    {
      "cell_type": "code",
      "source": [
        "from tensorflow import keras\n",
        "model = keras.models.load_model('best-cnn-model.h5')"
      ],
      "metadata": {
        "id": "YfZ-7XKzZF52"
      },
      "execution_count": 5,
      "outputs": []
    },
    {
      "cell_type": "code",
      "source": [
        "model.layers #keras 모델에 추가한 층을 보여줌."
      ],
      "metadata": {
        "colab": {
          "base_uri": "https://localhost:8080/"
        },
        "id": "envPsPX6Z_bC",
        "outputId": "19b1bc3c-6074-4d80-9508-6d2eaf1d400c"
      },
      "execution_count": 6,
      "outputs": [
        {
          "output_type": "execute_result",
          "data": {
            "text/plain": [
              "[<keras.layers.convolutional.conv2d.Conv2D at 0x7fb5d83568e0>,\n",
              " <keras.layers.pooling.max_pooling2d.MaxPooling2D at 0x7fb5d83bb1c0>,\n",
              " <keras.layers.convolutional.conv2d.Conv2D at 0x7fb673d28f70>,\n",
              " <keras.layers.pooling.max_pooling2d.MaxPooling2D at 0x7fb5d7cd6640>,\n",
              " <keras.layers.reshaping.flatten.Flatten at 0x7fb5d7c77400>,\n",
              " <keras.layers.core.dense.Dense at 0x7fb5d7c775b0>,\n",
              " <keras.layers.regularization.dropout.Dropout at 0x7fb5d7c7b850>,\n",
              " <keras.layers.core.dense.Dense at 0x7fb5d7c7b520>]"
            ]
          },
          "metadata": {},
          "execution_count": 6
        }
      ]
    },
    {
      "cell_type": "code",
      "source": [
        "conv = model.layers[0]\n",
        "print(conv.weights[0].shape, conv.weights[1].shape) #층의 가중치와 절편은 층의 weights 속성에 저장되어 있음. weights의 첫 번째 원소는 가중치, 두 번째 원소는 절편(필터마다 1개의 절면이 있으므로)"
      ],
      "metadata": {
        "colab": {
          "base_uri": "https://localhost:8080/"
        },
        "id": "Vc8bCf_kaHs9",
        "outputId": "67b34635-0f2b-4cb8-af3e-c60b8d95e2f1"
      },
      "execution_count": 7,
      "outputs": [
        {
          "output_type": "stream",
          "name": "stdout",
          "text": [
            "(3, 3, 1, 32) (32,)\n"
          ]
        }
      ]
    },
    {
      "cell_type": "code",
      "source": [
        "conv_weights = conv.weights[0].numpy()\n",
        "print(conv_weights.mean(), conv_weights.std())"
      ],
      "metadata": {
        "colab": {
          "base_uri": "https://localhost:8080/"
        },
        "id": "rZsTO96AaSyx",
        "outputId": "9ae9dc0d-9332-48ff-aa8d-1f7afbf2f095"
      },
      "execution_count": 8,
      "outputs": [
        {
          "output_type": "stream",
          "name": "stdout",
          "text": [
            "-0.032671962 0.2863588\n"
          ]
        }
      ]
    },
    {
      "cell_type": "code",
      "source": [
        "import matplotlib.pyplot as plt\n",
        "plt.hist(conv_weights.reshape(-1, 1))\n",
        "plt.xlabel('weight')\n",
        "plt.ylabel('count')\n",
        "plt.show()"
      ],
      "metadata": {
        "colab": {
          "base_uri": "https://localhost:8080/",
          "height": 279
        },
        "id": "vSl80e54aflx",
        "outputId": "408b04e7-5e8c-44f6-d416-af7e31db8004"
      },
      "execution_count": 9,
      "outputs": [
        {
          "output_type": "display_data",
          "data": {
            "text/plain": [
              "<Figure size 432x288 with 1 Axes>"
            ],
            "image/png": "[encoded data removed]"
          },
          "metadata": {
            "needs_background": "light"
          }
        }
      ]
    },
    {
      "cell_type": "code",
      "source": [
        "fig, axs = plt.subplots(2, 16, figsize=(15,2))\n",
        "for i in range(2):\n",
        "  for j in range(16):\n",
        "    axs[i,j].imshow(conv_weights[:,:,0,i*16 + j], vmin=-0.5, vmax=0.5) #imshow() 함수는 배열에 있는 최댓값과 최솟값을 사용해 픽셀의 강도를 표현. 어떤 절댓값을 기준으로 정해 픽셀의 강도를 나타내서 비교하기 위해 vmin과 vmax로 맷플롯립의 컬러맵으로 표현할 범위 지정.\n",
        "    axs[i,j].axis('off')\n",
        "plt.show() #앞에서 conv_weights에 32개의 가중치를 저장함. 따라서 conv_weights[:,:,0,0]에서 conv_weights[:,:,0,31]까지 출력"
      ],
      "metadata": {
        "colab": {
          "base_uri": "https://localhost:8080/",
          "height": 134
        },
        "id": "v1Pt7oMMauVL",
        "outputId": "733a6352-a5b6-40e7-d58d-860370573692"
      },
      "execution_count": 10,
      "outputs": [
        {
          "output_type": "display_data",
          "data": {
            "text/plain": [
              "<Figure size 1080x144 with 32 Axes>"
            ],
            "image/png": "[encoded data removed]"
          },
          "metadata": {
            "needs_background": "light"
          }
        }
      ]
    },
    {
      "cell_type": "code",
      "source": [
        "no_training_model = keras.Sequential()\n",
        "no_training_model.add(keras.layers.Conv2D(32, kernel_size=3, activation='relu', padding='same', input_shape=(28,28,1))) #훈련하지 않은 빈 합성곱 신경망"
      ],
      "metadata": {
        "id": "DokwbZqpbIXW"
      },
      "execution_count": 11,
      "outputs": []
    },
    {
      "cell_type": "code",
      "source": [
        "no_training_conv = no_training_model.layers[0]\n",
        "print(no_training_conv.weights[0].shape)"
      ],
      "metadata": {
        "colab": {
          "base_uri": "https://localhost:8080/"
        },
        "id": "AivnYEbXbcKW",
        "outputId": "89b124a1-eec4-431a-fdc1-3d1bbff5debf"
      },
      "execution_count": 12,
      "outputs": [
        {
          "output_type": "stream",
          "name": "stdout",
          "text": [
            "(3, 3, 1, 32)\n"
          ]
        }
      ]
    },
    {
      "cell_type": "code",
      "source": [
        "no_training_weights = no_training_conv.weights[0].numpy()\n",
        "print(no_training_weights.mean(), no_training_weights.std()) #훈련하지 않은 빈 합성곱 신경망은 평균은 이전과 동일하게 0에 가깝지만 표준편차는 이전과 달리 매우 작다."
      ],
      "metadata": {
        "colab": {
          "base_uri": "https://localhost:8080/"
        },
        "id": "K03gREv3bktf",
        "outputId": "99fcb6bc-1307-4279-cc26-fcff9bb1b79d"
      },
      "execution_count": 13,
      "outputs": [
        {
          "output_type": "stream",
          "name": "stdout",
          "text": [
            "0.0003325335 0.08182801\n"
          ]
        }
      ]
    },
    {
      "cell_type": "code",
      "source": [
        "plt.hist(no_training_weights.reshape(-1, 1))\n",
        "plt.xlabel('weight')\n",
        "plt.ylabel('count')\n",
        "plt.show() #이전과 비교해 고른 분포를 보이는데 이런 이유는 텐서플로가 신경망의 가중치를 처음 초기화할 때, 균등 분포에서 랜덤하게 값을 선택하기 때문."
      ],
      "metadata": {
        "colab": {
          "base_uri": "https://localhost:8080/",
          "height": 279
        },
        "id": "3uZMumnmbxLd",
        "outputId": "ad44fee0-8df0-438d-d2aa-b4f368d5c9a9"
      },
      "execution_count": 14,
      "outputs": [
        {
          "output_type": "display_data",
          "data": {
            "text/plain": [
              "<Figure size 432x288 with 1 Axes>"
            ],
            "image/png": "[encoded data removed]"
          },
          "metadata": {
            "needs_background": "light"
          }
        }
      ]
    },
    {
      "cell_type": "code",
      "source": [
        "fig, axs = plt.subplots(2, 16, figsize=(15,2))\n",
        "for i in range(2):\n",
        "  for j in range(16):\n",
        "    axs[i,j].imshow(no_training_weights[:,:,0,i*16 + j], vmin=-0.5, vmax=0.5)\n",
        "    axs[i,j].axis('off')\n",
        "plt.show() #전체적으로 색깔이 비슷비슷함"
      ],
      "metadata": {
        "colab": {
          "base_uri": "https://localhost:8080/",
          "height": 134
        },
        "id": "QITdqcM7cAON",
        "outputId": "fda8ad36-7ebb-4f52-a084-0694b7526da5"
      },
      "execution_count": 15,
      "outputs": [
        {
          "output_type": "display_data",
          "data": {
            "text/plain": [
              "<Figure size 1080x144 with 32 Axes>"
            ],
            "image/png": "[encoded data removed]"
          },
          "metadata": {
            "needs_background": "light"
          }
        }
      ]
    },
    {
      "cell_type": "code",
      "source": [
        "print(model.input) #모델 입력을 얻음"
      ],
      "metadata": {
        "colab": {
          "base_uri": "https://localhost:8080/"
        },
        "id": "4Ac6iR_Zcdes",
        "outputId": "8006df9a-ce5d-498e-f4ed-778e21618fab"
      },
      "execution_count": 16,
      "outputs": [
        {
          "output_type": "stream",
          "name": "stdout",
          "text": [
            "KerasTensor(type_spec=TensorSpec(shape=(None, 28, 28, 1), dtype=tf.float32, name='conv2d_input'), name='conv2d_input', description=\"created by layer 'conv2d_input'\")\n"
          ]
        }
      ]
    },
    {
      "cell_type": "code",
      "source": [
        "conv_acti = keras.Model(model.input, model.layers[0].output) #model.input과 model.layers[0].output을 연결하는 새로운 conv_acti 모델을 만듬."
      ],
      "metadata": {
        "id": "NgzDaJ_Gckc6"
      },
      "execution_count": 17,
      "outputs": []
    },
    {
      "cell_type": "code",
      "source": [
        "(train_input, train_target), (test_input, test_target) = keras.datasets.fashion_mnist.load_data()\n",
        "plt.imshow(train_input[0], cmap='gray_r')\n",
        "plt.show()"
      ],
      "metadata": {
        "colab": {
          "base_uri": "https://localhost:8080/",
          "height": 265
        },
        "id": "y6QFRBVGc628",
        "outputId": "f571eec1-e81c-411e-a08b-c7e799532409"
      },
      "execution_count": 18,
      "outputs": [
        {
          "output_type": "display_data",
          "data": {
            "text/plain": [
              "<Figure size 432x288 with 1 Axes>"
            ],
            "image/png": "[encoded data removed]"
          },
          "metadata": {
            "needs_background": "light"
          }
        }
      ]
    },
    {
      "cell_type": "code",
      "source": [
        "inputs = train_input[0:1].reshape(-1, 28, 28, 1) / 255.0\n",
        "feature_maps = conv_acti.predict(inputs)"
      ],
      "metadata": {
        "colab": {
          "base_uri": "https://localhost:8080/"
        },
        "id": "LZ6PuuG3dMXV",
        "outputId": "91e46c63-e9cb-420f-89b7-2e67925a6270"
      },
      "execution_count": 19,
      "outputs": [
        {
          "output_type": "stream",
          "name": "stdout",
          "text": [
            "1/1 [==============================] - 0s 83ms/step\n"
          ]
        }
      ]
    },
    {
      "cell_type": "code",
      "source": [
        "print(feature_maps.shape)"
      ],
      "metadata": {
        "colab": {
          "base_uri": "https://localhost:8080/"
        },
        "id": "Lrql28RRdX-O",
        "outputId": "52276ea2-6bbe-4beb-81c4-ebfd15580aa1"
      },
      "execution_count": 20,
      "outputs": [
        {
          "output_type": "stream",
          "name": "stdout",
          "text": [
            "(1, 28, 28, 32)\n"
          ]
        }
      ]
    },
    {
      "cell_type": "code",
      "source": [
        "fig, axs = plt.subplots(4, 8, figsize=(15, 8))\n",
        "for i in range(4):\n",
        "  for j in range(8):\n",
        "    axs[i, j].imshow(feature_maps[0,:,:,i*8 + j])\n",
        "    axs[i, j].axis('off')\n",
        "plt.show()"
      ],
      "metadata": {
        "colab": {
          "base_uri": "https://localhost:8080/",
          "height": 460
        },
        "id": "dr1rsZiudcn7",
        "outputId": "ab9e928c-99ae-4500-bf15-41ebc36cca2b"
      },
      "execution_count": 21,
      "outputs": [
        {
          "output_type": "display_data",
          "data": {
            "text/plain": [
              "<Figure size 1080x576 with 32 Axes>"
            ],
            "image/png": "[encoded data removed]"
          },
          "metadata": {
            "needs_background": "light"
          }
        }
      ]
    },
    {
      "cell_type": "code",
      "source": [
        "conv2_acti = keras.Model(model.input, model.layers[2].output) #model 객체의 입력과 두 번째 합성곱 층인 model.layer[2]의 출력을 연결한 conv2_acti모델을 만듬."
      ],
      "metadata": {
        "id": "J3xKTnPmd9_i"
      },
      "execution_count": 22,
      "outputs": []
    },
    {
      "cell_type": "code",
      "source": [
        "inputs = train_input[:1].reshape(-1, 28, 28, 1) / 255.0\n",
        "feature_maps = conv2_acti.predict(inputs)"
      ],
      "metadata": {
        "colab": {
          "base_uri": "https://localhost:8080/"
        },
        "id": "XKqzXUENeG3z",
        "outputId": "10a80d60-8213-4f98-f5de-20f9c261abd2"
      },
      "execution_count": 23,
      "outputs": [
        {
          "output_type": "stream",
          "name": "stdout",
          "text": [
            "1/1 [==============================] - 0s 80ms/step\n"
          ]
        }
      ]
    },
    {
      "cell_type": "code",
      "source": [
        "print(feature_maps.shape)"
      ],
      "metadata": {
        "colab": {
          "base_uri": "https://localhost:8080/"
        },
        "id": "K4S3j8ikeTB2",
        "outputId": "55f0f35b-9808-478f-f48a-7b34dc0e67af"
      },
      "execution_count": 24,
      "outputs": [
        {
          "output_type": "stream",
          "name": "stdout",
          "text": [
            "(1, 14, 14, 64)\n"
          ]
        }
      ]
    },
    {
      "cell_type": "code",
      "source": [
        "fig, axs = plt.subplots(8, 8, figsize=(12, 12))\n",
        "for i in range(8):\n",
        "  for j in range(8):\n",
        "    axs[i, j].imshow(feature_maps[0,:,:,i*8 + j])\n",
        "    axs[i, j].axis('off')\n",
        "plt.show()"
      ],
      "metadata": {
        "colab": {
          "base_uri": "https://localhost:8080/",
          "height": 683
        },
        "id": "LcqdZXkNeYj2",
        "outputId": "673384ca-e91e-4fa5-d4d7-794be8979721"
      },
      "execution_count": 25,
      "outputs": [
        {
          "output_type": "display_data",
          "data": {
            "text/plain": [
              "<Figure size 864x864 with 64 Axes>"
            ],
            "image/png": "[encoded data removed]"
          },
          "metadata": {
            "needs_background": "light"
          }
        }
      ]
    }
  ]
}